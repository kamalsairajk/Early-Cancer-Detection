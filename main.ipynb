{
 "cells": [
  {
   "cell_type": "code",
   "execution_count": 6,
   "metadata": {},
   "outputs": [
    {
     "name": "stdout",
     "output_type": "stream",
     "text": [
      "102/108 model 1 94.44444444444444\n",
      "47/108 model 2 43.51851851851852\n"
     ]
    }
   ],
   "source": [
    "# -*- coding: utf-8 -*-\n",
    "\"\"\"\n",
    "Created on Thu Nov 22 17:02:44 2018\n",
    "\n",
    "@author: arunkls\n",
    "\"\"\"\n",
    "import os\n",
    "import numpy as np\n",
    "from PIL import Image\n",
    "from keras.models import load_model\n",
    "from keras.preprocessing.image import  img_to_array\n",
    "\n",
    "m,n= 100,100\n",
    "model1 = load_model('mymodel_1.h5')\n",
    "model2 = load_model('mymodel_2.h5')\n",
    "path=\"C://Users//arun.kls//Downloads//ALL_IDB1//im\"\n",
    "imgfiles=os.listdir(path)\n",
    "acc1=0\n",
    "acc2=0\n",
    "for img in imgfiles:\n",
    "    im=Image.open(path+'\\\\'+img);\n",
    "    im=im.convert(mode='RGB')\n",
    "    imrs=im.resize((m,n))\n",
    "    imrs=img_to_array(imrs)/255;\n",
    "    imrs=imrs.transpose(2,0,1);\n",
    "    imrs=imrs.reshape(3,m,n);\n",
    "    imrs= np.expand_dims(imrs, axis=0)\n",
    "    y=(img.split('_')[-1]).split('.')[0]\n",
    "    a1=np.argmax(model1.predict(imrs))\n",
    "    a2=np.argmax(model2.predict(imrs))\n",
    "    if(int(a1)==int(y)):\n",
    "        acc1+=1\n",
    "    if(int(a2)==int(y)):\n",
    "        acc2+=1\n",
    "per1=(acc1/len(imgfiles))*100\n",
    "per2=(acc2/len(imgfiles))*100    \n",
    "print(str(acc1)+\"/\"+str(len(imgfiles))+\" model 1 \"+ str(per1))\n",
    "print(str(acc2)+\"/\"+str(len(imgfiles))+\" model 2 \"+ str(per2))\n",
    "#print(imrs.shape)"
   ]
  }
 ],
 "metadata": {
  "kernelspec": {
   "display_name": "Python 3",
   "language": "python",
   "name": "python3"
  },
  "language_info": {
   "codemirror_mode": {
    "name": "ipython",
    "version": 3
   },
   "file_extension": ".py",
   "mimetype": "text/x-python",
   "name": "python",
   "nbconvert_exporter": "python",
   "pygments_lexer": "ipython3",
   "version": "3.6.5"
  }
 },
 "nbformat": 4,
 "nbformat_minor": 2
}
